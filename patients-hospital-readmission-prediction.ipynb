{
 "cells": [
  {
   "cell_type": "code",
   "execution_count": 2,
   "id": "578daa9d-eefd-4426-848e-5ddea80c3b49",
   "metadata": {},
   "outputs": [],
   "source": [
    "# imports \n",
    "import pandas as pd\n",
    "import numpy as np\n",
    "import matplotlib.pyplot as plt\n",
    "import seaborn as sns"
   ]
  },
  {
   "cell_type": "code",
   "execution_count": 3,
   "id": "fb41c1a4-0699-4905-b297-6e16ad45d8cb",
   "metadata": {},
   "outputs": [
    {
     "data": {
      "text/html": [
       "<div>\n",
       "<style scoped>\n",
       "    .dataframe tbody tr th:only-of-type {\n",
       "        vertical-align: middle;\n",
       "    }\n",
       "\n",
       "    .dataframe tbody tr th {\n",
       "        vertical-align: top;\n",
       "    }\n",
       "\n",
       "    .dataframe thead th {\n",
       "        text-align: right;\n",
       "    }\n",
       "</style>\n",
       "<table border=\"1\" class=\"dataframe\">\n",
       "  <thead>\n",
       "    <tr style=\"text-align: right;\">\n",
       "      <th></th>\n",
       "      <th>patient_id</th>\n",
       "      <th>age</th>\n",
       "      <th>gender</th>\n",
       "      <th>blood_pressure</th>\n",
       "      <th>cholesterol</th>\n",
       "      <th>bmi</th>\n",
       "      <th>diabetes</th>\n",
       "      <th>hypertension</th>\n",
       "      <th>medication_count</th>\n",
       "      <th>length_of_stay</th>\n",
       "      <th>discharge_destination</th>\n",
       "      <th>readmitted_30_days</th>\n",
       "    </tr>\n",
       "  </thead>\n",
       "  <tbody>\n",
       "    <tr>\n",
       "      <th>0</th>\n",
       "      <td>1</td>\n",
       "      <td>74</td>\n",
       "      <td>Other</td>\n",
       "      <td>130/72</td>\n",
       "      <td>240</td>\n",
       "      <td>31.5</td>\n",
       "      <td>Yes</td>\n",
       "      <td>No</td>\n",
       "      <td>5</td>\n",
       "      <td>1</td>\n",
       "      <td>Nursing_Facility</td>\n",
       "      <td>Yes</td>\n",
       "    </tr>\n",
       "    <tr>\n",
       "      <th>1</th>\n",
       "      <td>2</td>\n",
       "      <td>46</td>\n",
       "      <td>Female</td>\n",
       "      <td>120/92</td>\n",
       "      <td>292</td>\n",
       "      <td>36.3</td>\n",
       "      <td>No</td>\n",
       "      <td>No</td>\n",
       "      <td>4</td>\n",
       "      <td>3</td>\n",
       "      <td>Nursing_Facility</td>\n",
       "      <td>No</td>\n",
       "    </tr>\n",
       "    <tr>\n",
       "      <th>2</th>\n",
       "      <td>3</td>\n",
       "      <td>89</td>\n",
       "      <td>Other</td>\n",
       "      <td>135/78</td>\n",
       "      <td>153</td>\n",
       "      <td>30.3</td>\n",
       "      <td>No</td>\n",
       "      <td>Yes</td>\n",
       "      <td>1</td>\n",
       "      <td>1</td>\n",
       "      <td>Home</td>\n",
       "      <td>No</td>\n",
       "    </tr>\n",
       "    <tr>\n",
       "      <th>3</th>\n",
       "      <td>4</td>\n",
       "      <td>84</td>\n",
       "      <td>Female</td>\n",
       "      <td>123/80</td>\n",
       "      <td>153</td>\n",
       "      <td>31.5</td>\n",
       "      <td>No</td>\n",
       "      <td>Yes</td>\n",
       "      <td>3</td>\n",
       "      <td>10</td>\n",
       "      <td>Home</td>\n",
       "      <td>No</td>\n",
       "    </tr>\n",
       "    <tr>\n",
       "      <th>4</th>\n",
       "      <td>5</td>\n",
       "      <td>32</td>\n",
       "      <td>Other</td>\n",
       "      <td>135/84</td>\n",
       "      <td>205</td>\n",
       "      <td>18.4</td>\n",
       "      <td>No</td>\n",
       "      <td>Yes</td>\n",
       "      <td>6</td>\n",
       "      <td>4</td>\n",
       "      <td>Nursing_Facility</td>\n",
       "      <td>No</td>\n",
       "    </tr>\n",
       "  </tbody>\n",
       "</table>\n",
       "</div>"
      ],
      "text/plain": [
       "   patient_id  age  gender blood_pressure  cholesterol   bmi diabetes  \\\n",
       "0           1   74   Other         130/72          240  31.5      Yes   \n",
       "1           2   46  Female         120/92          292  36.3       No   \n",
       "2           3   89   Other         135/78          153  30.3       No   \n",
       "3           4   84  Female         123/80          153  31.5       No   \n",
       "4           5   32   Other         135/84          205  18.4       No   \n",
       "\n",
       "  hypertension  medication_count  length_of_stay discharge_destination  \\\n",
       "0           No                 5               1      Nursing_Facility   \n",
       "1           No                 4               3      Nursing_Facility   \n",
       "2          Yes                 1               1                  Home   \n",
       "3          Yes                 3              10                  Home   \n",
       "4          Yes                 6               4      Nursing_Facility   \n",
       "\n",
       "  readmitted_30_days  \n",
       "0                Yes  \n",
       "1                 No  \n",
       "2                 No  \n",
       "3                 No  \n",
       "4                 No  "
      ]
     },
     "execution_count": 3,
     "metadata": {},
     "output_type": "execute_result"
    }
   ],
   "source": [
    "# Loading the dataset\n",
    "df = pd.read_csv('data/hospital_readmissions_30k.csv')\n",
    "df.head()"
   ]
  },
  {
   "cell_type": "code",
   "execution_count": 4,
   "id": "868d666f-5026-4d6b-b66b-58e674cd466b",
   "metadata": {},
   "outputs": [
    {
     "data": {
      "text/plain": [
       "array(['Nursing_Facility', 'Home', 'Rehab'], dtype=object)"
      ]
     },
     "execution_count": 4,
     "metadata": {},
     "output_type": "execute_result"
    }
   ],
   "source": [
    "discharge_features = df['discharge_destination'].unique()\n",
    "discharge_features"
   ]
  },
  {
   "cell_type": "code",
   "execution_count": 5,
   "id": "f8320fc3-97ab-44d0-ba2d-8c1bac09d66c",
   "metadata": {},
   "outputs": [
    {
     "data": {
      "text/plain": [
       "array(['Other', 'Female', 'Male'], dtype=object)"
      ]
     },
     "execution_count": 5,
     "metadata": {},
     "output_type": "execute_result"
    }
   ],
   "source": [
    "gender_features = df['gender'].unique()\n",
    "gender_features"
   ]
  },
  {
   "cell_type": "code",
   "execution_count": 6,
   "id": "ecc67d67-d716-41b8-8083-321df91c65b9",
   "metadata": {},
   "outputs": [
    {
     "data": {
      "text/plain": [
       "patient_id               0\n",
       "age                      0\n",
       "gender                   0\n",
       "blood_pressure           0\n",
       "cholesterol              0\n",
       "bmi                      0\n",
       "diabetes                 0\n",
       "hypertension             0\n",
       "medication_count         0\n",
       "length_of_stay           0\n",
       "discharge_destination    0\n",
       "readmitted_30_days       0\n",
       "dtype: int64"
      ]
     },
     "execution_count": 6,
     "metadata": {},
     "output_type": "execute_result"
    }
   ],
   "source": [
    "df.isnull().sum()"
   ]
  },
  {
   "cell_type": "code",
   "execution_count": 7,
   "id": "2ce96f19-5a94-42f3-924c-b04c06ade937",
   "metadata": {},
   "outputs": [
    {
     "data": {
      "text/plain": [
       "30000"
      ]
     },
     "execution_count": 7,
     "metadata": {},
     "output_type": "execute_result"
    }
   ],
   "source": [
    "len(df)"
   ]
  },
  {
   "cell_type": "code",
   "execution_count": 8,
   "id": "ca47d00b-aec4-4c6e-85d4-621d4870226d",
   "metadata": {},
   "outputs": [
    {
     "data": {
      "text/html": [
       "<div>\n",
       "<style scoped>\n",
       "    .dataframe tbody tr th:only-of-type {\n",
       "        vertical-align: middle;\n",
       "    }\n",
       "\n",
       "    .dataframe tbody tr th {\n",
       "        vertical-align: top;\n",
       "    }\n",
       "\n",
       "    .dataframe thead th {\n",
       "        text-align: right;\n",
       "    }\n",
       "</style>\n",
       "<table border=\"1\" class=\"dataframe\">\n",
       "  <thead>\n",
       "    <tr style=\"text-align: right;\">\n",
       "      <th></th>\n",
       "      <th>patient_id</th>\n",
       "      <th>age</th>\n",
       "      <th>cholesterol</th>\n",
       "      <th>bmi</th>\n",
       "      <th>medication_count</th>\n",
       "      <th>length_of_stay</th>\n",
       "    </tr>\n",
       "  </thead>\n",
       "  <tbody>\n",
       "    <tr>\n",
       "      <th>count</th>\n",
       "      <td>30000.000000</td>\n",
       "      <td>30000.000000</td>\n",
       "      <td>30000.000000</td>\n",
       "      <td>30000.000000</td>\n",
       "      <td>30000.000000</td>\n",
       "      <td>30000.000000</td>\n",
       "    </tr>\n",
       "    <tr>\n",
       "      <th>mean</th>\n",
       "      <td>15000.500000</td>\n",
       "      <td>53.884233</td>\n",
       "      <td>225.260400</td>\n",
       "      <td>28.946263</td>\n",
       "      <td>5.012267</td>\n",
       "      <td>5.502900</td>\n",
       "    </tr>\n",
       "    <tr>\n",
       "      <th>std</th>\n",
       "      <td>8660.398374</td>\n",
       "      <td>21.056485</td>\n",
       "      <td>43.585671</td>\n",
       "      <td>6.348204</td>\n",
       "      <td>3.166383</td>\n",
       "      <td>2.867298</td>\n",
       "    </tr>\n",
       "    <tr>\n",
       "      <th>min</th>\n",
       "      <td>1.000000</td>\n",
       "      <td>18.000000</td>\n",
       "      <td>150.000000</td>\n",
       "      <td>18.000000</td>\n",
       "      <td>0.000000</td>\n",
       "      <td>1.000000</td>\n",
       "    </tr>\n",
       "    <tr>\n",
       "      <th>25%</th>\n",
       "      <td>7500.750000</td>\n",
       "      <td>36.000000</td>\n",
       "      <td>188.000000</td>\n",
       "      <td>23.400000</td>\n",
       "      <td>2.000000</td>\n",
       "      <td>3.000000</td>\n",
       "    </tr>\n",
       "    <tr>\n",
       "      <th>50%</th>\n",
       "      <td>15000.500000</td>\n",
       "      <td>54.000000</td>\n",
       "      <td>225.000000</td>\n",
       "      <td>28.900000</td>\n",
       "      <td>5.000000</td>\n",
       "      <td>5.000000</td>\n",
       "    </tr>\n",
       "    <tr>\n",
       "      <th>75%</th>\n",
       "      <td>22500.250000</td>\n",
       "      <td>72.000000</td>\n",
       "      <td>263.000000</td>\n",
       "      <td>34.500000</td>\n",
       "      <td>8.000000</td>\n",
       "      <td>8.000000</td>\n",
       "    </tr>\n",
       "    <tr>\n",
       "      <th>max</th>\n",
       "      <td>30000.000000</td>\n",
       "      <td>90.000000</td>\n",
       "      <td>300.000000</td>\n",
       "      <td>40.000000</td>\n",
       "      <td>10.000000</td>\n",
       "      <td>10.000000</td>\n",
       "    </tr>\n",
       "  </tbody>\n",
       "</table>\n",
       "</div>"
      ],
      "text/plain": [
       "         patient_id           age   cholesterol           bmi  \\\n",
       "count  30000.000000  30000.000000  30000.000000  30000.000000   \n",
       "mean   15000.500000     53.884233    225.260400     28.946263   \n",
       "std     8660.398374     21.056485     43.585671      6.348204   \n",
       "min        1.000000     18.000000    150.000000     18.000000   \n",
       "25%     7500.750000     36.000000    188.000000     23.400000   \n",
       "50%    15000.500000     54.000000    225.000000     28.900000   \n",
       "75%    22500.250000     72.000000    263.000000     34.500000   \n",
       "max    30000.000000     90.000000    300.000000     40.000000   \n",
       "\n",
       "       medication_count  length_of_stay  \n",
       "count      30000.000000    30000.000000  \n",
       "mean           5.012267        5.502900  \n",
       "std            3.166383        2.867298  \n",
       "min            0.000000        1.000000  \n",
       "25%            2.000000        3.000000  \n",
       "50%            5.000000        5.000000  \n",
       "75%            8.000000        8.000000  \n",
       "max           10.000000       10.000000  "
      ]
     },
     "execution_count": 8,
     "metadata": {},
     "output_type": "execute_result"
    }
   ],
   "source": [
    "df.describe()"
   ]
  },
  {
   "cell_type": "code",
   "execution_count": 9,
   "id": "7c11b2ee-0d44-4d43-8c8d-cda7d766c4fc",
   "metadata": {},
   "outputs": [
    {
     "data": {
      "text/html": [
       "<div>\n",
       "<style scoped>\n",
       "    .dataframe tbody tr th:only-of-type {\n",
       "        vertical-align: middle;\n",
       "    }\n",
       "\n",
       "    .dataframe tbody tr th {\n",
       "        vertical-align: top;\n",
       "    }\n",
       "\n",
       "    .dataframe thead th {\n",
       "        text-align: right;\n",
       "    }\n",
       "</style>\n",
       "<table border=\"1\" class=\"dataframe\">\n",
       "  <thead>\n",
       "    <tr style=\"text-align: right;\">\n",
       "      <th></th>\n",
       "      <th>patient_id</th>\n",
       "      <th>age</th>\n",
       "      <th>gender</th>\n",
       "      <th>blood_pressure</th>\n",
       "      <th>cholesterol</th>\n",
       "      <th>bmi</th>\n",
       "      <th>diabetes</th>\n",
       "      <th>hypertension</th>\n",
       "      <th>medication_count</th>\n",
       "      <th>length_of_stay</th>\n",
       "      <th>discharge_destination</th>\n",
       "      <th>readmitted_30_days</th>\n",
       "    </tr>\n",
       "  </thead>\n",
       "  <tbody>\n",
       "    <tr>\n",
       "      <th>0</th>\n",
       "      <td>1</td>\n",
       "      <td>74</td>\n",
       "      <td>Other</td>\n",
       "      <td>130/72</td>\n",
       "      <td>240</td>\n",
       "      <td>31.5</td>\n",
       "      <td>Yes</td>\n",
       "      <td>No</td>\n",
       "      <td>5</td>\n",
       "      <td>1</td>\n",
       "      <td>Nursing_Facility</td>\n",
       "      <td>Yes</td>\n",
       "    </tr>\n",
       "    <tr>\n",
       "      <th>1</th>\n",
       "      <td>2</td>\n",
       "      <td>46</td>\n",
       "      <td>Female</td>\n",
       "      <td>120/92</td>\n",
       "      <td>292</td>\n",
       "      <td>36.3</td>\n",
       "      <td>No</td>\n",
       "      <td>No</td>\n",
       "      <td>4</td>\n",
       "      <td>3</td>\n",
       "      <td>Nursing_Facility</td>\n",
       "      <td>No</td>\n",
       "    </tr>\n",
       "    <tr>\n",
       "      <th>2</th>\n",
       "      <td>3</td>\n",
       "      <td>89</td>\n",
       "      <td>Other</td>\n",
       "      <td>135/78</td>\n",
       "      <td>153</td>\n",
       "      <td>30.3</td>\n",
       "      <td>No</td>\n",
       "      <td>Yes</td>\n",
       "      <td>1</td>\n",
       "      <td>1</td>\n",
       "      <td>Home</td>\n",
       "      <td>No</td>\n",
       "    </tr>\n",
       "    <tr>\n",
       "      <th>3</th>\n",
       "      <td>4</td>\n",
       "      <td>84</td>\n",
       "      <td>Female</td>\n",
       "      <td>123/80</td>\n",
       "      <td>153</td>\n",
       "      <td>31.5</td>\n",
       "      <td>No</td>\n",
       "      <td>Yes</td>\n",
       "      <td>3</td>\n",
       "      <td>10</td>\n",
       "      <td>Home</td>\n",
       "      <td>No</td>\n",
       "    </tr>\n",
       "    <tr>\n",
       "      <th>4</th>\n",
       "      <td>5</td>\n",
       "      <td>32</td>\n",
       "      <td>Other</td>\n",
       "      <td>135/84</td>\n",
       "      <td>205</td>\n",
       "      <td>18.4</td>\n",
       "      <td>No</td>\n",
       "      <td>Yes</td>\n",
       "      <td>6</td>\n",
       "      <td>4</td>\n",
       "      <td>Nursing_Facility</td>\n",
       "      <td>No</td>\n",
       "    </tr>\n",
       "  </tbody>\n",
       "</table>\n",
       "</div>"
      ],
      "text/plain": [
       "   patient_id  age  gender blood_pressure  cholesterol   bmi diabetes  \\\n",
       "0           1   74   Other         130/72          240  31.5      Yes   \n",
       "1           2   46  Female         120/92          292  36.3       No   \n",
       "2           3   89   Other         135/78          153  30.3       No   \n",
       "3           4   84  Female         123/80          153  31.5       No   \n",
       "4           5   32   Other         135/84          205  18.4       No   \n",
       "\n",
       "  hypertension  medication_count  length_of_stay discharge_destination  \\\n",
       "0           No                 5               1      Nursing_Facility   \n",
       "1           No                 4               3      Nursing_Facility   \n",
       "2          Yes                 1               1                  Home   \n",
       "3          Yes                 3              10                  Home   \n",
       "4          Yes                 6               4      Nursing_Facility   \n",
       "\n",
       "  readmitted_30_days  \n",
       "0                Yes  \n",
       "1                 No  \n",
       "2                 No  \n",
       "3                 No  \n",
       "4                 No  "
      ]
     },
     "execution_count": 9,
     "metadata": {},
     "output_type": "execute_result"
    }
   ],
   "source": [
    "df.head()"
   ]
  },
  {
   "cell_type": "markdown",
   "id": "37f5300e-e970-4bbd-aedc-9440a5c2448c",
   "metadata": {},
   "source": [
    "#### Since `diabetes` and `hypertension` are either yes or no, we can use One Hot Encoding to convert them into numerical values, binari - Yes as 1 and No as 0m."
   ]
  },
  {
   "cell_type": "code",
   "execution_count": 10,
   "id": "0009892f",
   "metadata": {},
   "outputs": [
    {
     "data": {
      "text/html": [
       "<div>\n",
       "<style scoped>\n",
       "    .dataframe tbody tr th:only-of-type {\n",
       "        vertical-align: middle;\n",
       "    }\n",
       "\n",
       "    .dataframe tbody tr th {\n",
       "        vertical-align: top;\n",
       "    }\n",
       "\n",
       "    .dataframe thead th {\n",
       "        text-align: right;\n",
       "    }\n",
       "</style>\n",
       "<table border=\"1\" class=\"dataframe\">\n",
       "  <thead>\n",
       "    <tr style=\"text-align: right;\">\n",
       "      <th></th>\n",
       "      <th>age</th>\n",
       "      <th>gender</th>\n",
       "      <th>cholesterol</th>\n",
       "      <th>bmi</th>\n",
       "      <th>diabetes</th>\n",
       "      <th>hypertension</th>\n",
       "      <th>medication_count</th>\n",
       "      <th>length_of_stay</th>\n",
       "      <th>discharge_destination</th>\n",
       "      <th>systolic_bp</th>\n",
       "      <th>diastolic_bp</th>\n",
       "    </tr>\n",
       "  </thead>\n",
       "  <tbody>\n",
       "    <tr>\n",
       "      <th>0</th>\n",
       "      <td>74</td>\n",
       "      <td>Other</td>\n",
       "      <td>240</td>\n",
       "      <td>31.5</td>\n",
       "      <td>Yes</td>\n",
       "      <td>No</td>\n",
       "      <td>5</td>\n",
       "      <td>1</td>\n",
       "      <td>Nursing_Facility</td>\n",
       "      <td>130</td>\n",
       "      <td>72</td>\n",
       "    </tr>\n",
       "    <tr>\n",
       "      <th>1</th>\n",
       "      <td>46</td>\n",
       "      <td>Female</td>\n",
       "      <td>292</td>\n",
       "      <td>36.3</td>\n",
       "      <td>No</td>\n",
       "      <td>No</td>\n",
       "      <td>4</td>\n",
       "      <td>3</td>\n",
       "      <td>Nursing_Facility</td>\n",
       "      <td>120</td>\n",
       "      <td>92</td>\n",
       "    </tr>\n",
       "    <tr>\n",
       "      <th>2</th>\n",
       "      <td>89</td>\n",
       "      <td>Other</td>\n",
       "      <td>153</td>\n",
       "      <td>30.3</td>\n",
       "      <td>No</td>\n",
       "      <td>Yes</td>\n",
       "      <td>1</td>\n",
       "      <td>1</td>\n",
       "      <td>Home</td>\n",
       "      <td>135</td>\n",
       "      <td>78</td>\n",
       "    </tr>\n",
       "    <tr>\n",
       "      <th>3</th>\n",
       "      <td>84</td>\n",
       "      <td>Female</td>\n",
       "      <td>153</td>\n",
       "      <td>31.5</td>\n",
       "      <td>No</td>\n",
       "      <td>Yes</td>\n",
       "      <td>3</td>\n",
       "      <td>10</td>\n",
       "      <td>Home</td>\n",
       "      <td>123</td>\n",
       "      <td>80</td>\n",
       "    </tr>\n",
       "    <tr>\n",
       "      <th>4</th>\n",
       "      <td>32</td>\n",
       "      <td>Other</td>\n",
       "      <td>205</td>\n",
       "      <td>18.4</td>\n",
       "      <td>No</td>\n",
       "      <td>Yes</td>\n",
       "      <td>6</td>\n",
       "      <td>4</td>\n",
       "      <td>Nursing_Facility</td>\n",
       "      <td>135</td>\n",
       "      <td>84</td>\n",
       "    </tr>\n",
       "  </tbody>\n",
       "</table>\n",
       "</div>"
      ],
      "text/plain": [
       "   age  gender  cholesterol   bmi diabetes hypertension  medication_count  \\\n",
       "0   74   Other          240  31.5      Yes           No                 5   \n",
       "1   46  Female          292  36.3       No           No                 4   \n",
       "2   89   Other          153  30.3       No          Yes                 1   \n",
       "3   84  Female          153  31.5       No          Yes                 3   \n",
       "4   32   Other          205  18.4       No          Yes                 6   \n",
       "\n",
       "   length_of_stay discharge_destination  systolic_bp  diastolic_bp  \n",
       "0               1      Nursing_Facility          130            72  \n",
       "1               3      Nursing_Facility          120            92  \n",
       "2               1                  Home          135            78  \n",
       "3              10                  Home          123            80  \n",
       "4               4      Nursing_Facility          135            84  "
      ]
     },
     "execution_count": 10,
     "metadata": {},
     "output_type": "execute_result"
    }
   ],
   "source": [
    "# Data preprocession\n",
    "from sklearn.preprocessing import OneHotEncoder, LabelEncoder, StandardScaler\n",
    "from sklearn.compose import ColumnTransformer\n",
    "\n",
    "X = df.drop('readmitted_30_days', axis=1)\n",
    "y = df['readmitted_30_days']\n",
    "\n",
    "# thhe patient_id column is irelevant, won't affcet classsification, we drop it\n",
    "X = X.drop('patient_id', axis=1)\n",
    "\n",
    "# Split the blood pressure into systols and distols\n",
    "X[['systolic_bp', 'diastolic_bp']] = X['blood_pressure'].str.split('/', expand=True).astype(int)\n",
    "X = X.drop('blood_pressure', axis=1)\n",
    "\n",
    "X.head()\n"
   ]
  },
  {
   "cell_type": "code",
   "execution_count": 11,
   "id": "a905d94c",
   "metadata": {},
   "outputs": [
    {
     "data": {
      "text/plain": [
       "array([1, 0, 0, 0, 0])"
      ]
     },
     "execution_count": 11,
     "metadata": {},
     "output_type": "execute_result"
    }
   ],
   "source": [
    "# Encode target cariable, Yes to 1 and No to 0\n",
    "le = LabelEncoder()\n",
    "y = le.fit_transform(y)\n",
    "\n",
    "y[:5]"
   ]
  },
  {
   "cell_type": "code",
   "execution_count": 12,
   "id": "34de94e8",
   "metadata": {},
   "outputs": [
    {
     "data": {
      "text/plain": [
       "(array(['Other', 'Female', 'Male'], dtype=object),\n",
       " array(['Yes', 'No'], dtype=object),\n",
       " array(['No', 'Yes'], dtype=object),\n",
       " array(['Nursing_Facility', 'Home', 'Rehab'], dtype=object))"
      ]
     },
     "execution_count": 12,
     "metadata": {},
     "output_type": "execute_result"
    }
   ],
   "source": [
    "# Define numerical, categorical and nominal columns\n",
    "X['gender'].unique(), X['diabetes'].unique(), X['hypertension'].unique(), X['discharge_destination'].unique() "
   ]
  },
  {
   "cell_type": "code",
   "execution_count": 13,
   "id": "7513b7ee",
   "metadata": {},
   "outputs": [
    {
     "data": {
      "text/html": [
       "<div>\n",
       "<style scoped>\n",
       "    .dataframe tbody tr th:only-of-type {\n",
       "        vertical-align: middle;\n",
       "    }\n",
       "\n",
       "    .dataframe tbody tr th {\n",
       "        vertical-align: top;\n",
       "    }\n",
       "\n",
       "    .dataframe thead th {\n",
       "        text-align: right;\n",
       "    }\n",
       "</style>\n",
       "<table border=\"1\" class=\"dataframe\">\n",
       "  <thead>\n",
       "    <tr style=\"text-align: right;\">\n",
       "      <th></th>\n",
       "      <th>age</th>\n",
       "      <th>cholesterol</th>\n",
       "      <th>bmi</th>\n",
       "      <th>medication_count</th>\n",
       "      <th>length_of_stay</th>\n",
       "      <th>systolic_bp</th>\n",
       "      <th>diastolic_bp</th>\n",
       "      <th>diabetes_Yes</th>\n",
       "      <th>hypertension_Yes</th>\n",
       "      <th>gender_Male</th>\n",
       "      <th>gender_Other</th>\n",
       "      <th>discharge_destination_Nursing_Facility</th>\n",
       "      <th>discharge_destination_Rehab</th>\n",
       "    </tr>\n",
       "  </thead>\n",
       "  <tbody>\n",
       "    <tr>\n",
       "      <th>0</th>\n",
       "      <td>0.955340</td>\n",
       "      <td>0.338181</td>\n",
       "      <td>0.402284</td>\n",
       "      <td>-0.003874</td>\n",
       "      <td>-1.570459</td>\n",
       "      <td>-0.338645</td>\n",
       "      <td>-1.459778</td>\n",
       "      <td>1.0</td>\n",
       "      <td>0.0</td>\n",
       "      <td>0.0</td>\n",
       "      <td>1.0</td>\n",
       "      <td>1.0</td>\n",
       "      <td>0.0</td>\n",
       "    </tr>\n",
       "    <tr>\n",
       "      <th>1</th>\n",
       "      <td>-0.374439</td>\n",
       "      <td>1.531254</td>\n",
       "      <td>1.158416</td>\n",
       "      <td>-0.319697</td>\n",
       "      <td>-0.872927</td>\n",
       "      <td>-1.020252</td>\n",
       "      <td>0.781643</td>\n",
       "      <td>0.0</td>\n",
       "      <td>0.0</td>\n",
       "      <td>0.0</td>\n",
       "      <td>0.0</td>\n",
       "      <td>1.0</td>\n",
       "      <td>0.0</td>\n",
       "    </tr>\n",
       "    <tr>\n",
       "      <th>2</th>\n",
       "      <td>1.667721</td>\n",
       "      <td>-1.657921</td>\n",
       "      <td>0.213251</td>\n",
       "      <td>-1.267166</td>\n",
       "      <td>-1.570459</td>\n",
       "      <td>0.002158</td>\n",
       "      <td>-0.787351</td>\n",
       "      <td>0.0</td>\n",
       "      <td>1.0</td>\n",
       "      <td>0.0</td>\n",
       "      <td>1.0</td>\n",
       "      <td>0.0</td>\n",
       "      <td>0.0</td>\n",
       "    </tr>\n",
       "    <tr>\n",
       "      <th>3</th>\n",
       "      <td>1.430261</td>\n",
       "      <td>-1.657921</td>\n",
       "      <td>0.402284</td>\n",
       "      <td>-0.635520</td>\n",
       "      <td>1.568436</td>\n",
       "      <td>-0.815770</td>\n",
       "      <td>-0.563209</td>\n",
       "      <td>0.0</td>\n",
       "      <td>1.0</td>\n",
       "      <td>0.0</td>\n",
       "      <td>0.0</td>\n",
       "      <td>0.0</td>\n",
       "      <td>0.0</td>\n",
       "    </tr>\n",
       "    <tr>\n",
       "      <th>4</th>\n",
       "      <td>-1.039328</td>\n",
       "      <td>-0.464849</td>\n",
       "      <td>-1.661326</td>\n",
       "      <td>0.311949</td>\n",
       "      <td>-0.524161</td>\n",
       "      <td>0.002158</td>\n",
       "      <td>-0.114925</td>\n",
       "      <td>0.0</td>\n",
       "      <td>1.0</td>\n",
       "      <td>0.0</td>\n",
       "      <td>1.0</td>\n",
       "      <td>1.0</td>\n",
       "      <td>0.0</td>\n",
       "    </tr>\n",
       "  </tbody>\n",
       "</table>\n",
       "</div>"
      ],
      "text/plain": [
       "        age  cholesterol       bmi  medication_count  length_of_stay  \\\n",
       "0  0.955340     0.338181  0.402284         -0.003874       -1.570459   \n",
       "1 -0.374439     1.531254  1.158416         -0.319697       -0.872927   \n",
       "2  1.667721    -1.657921  0.213251         -1.267166       -1.570459   \n",
       "3  1.430261    -1.657921  0.402284         -0.635520        1.568436   \n",
       "4 -1.039328    -0.464849 -1.661326          0.311949       -0.524161   \n",
       "\n",
       "   systolic_bp  diastolic_bp  diabetes_Yes  hypertension_Yes  gender_Male  \\\n",
       "0    -0.338645     -1.459778           1.0               0.0          0.0   \n",
       "1    -1.020252      0.781643           0.0               0.0          0.0   \n",
       "2     0.002158     -0.787351           0.0               1.0          0.0   \n",
       "3    -0.815770     -0.563209           0.0               1.0          0.0   \n",
       "4     0.002158     -0.114925           0.0               1.0          0.0   \n",
       "\n",
       "   gender_Other  discharge_destination_Nursing_Facility  \\\n",
       "0           1.0                                     1.0   \n",
       "1           0.0                                     1.0   \n",
       "2           1.0                                     0.0   \n",
       "3           0.0                                     0.0   \n",
       "4           1.0                                     1.0   \n",
       "\n",
       "   discharge_destination_Rehab  \n",
       "0                          0.0  \n",
       "1                          0.0  \n",
       "2                          0.0  \n",
       "3                          0.0  \n",
       "4                          0.0  "
      ]
     },
     "execution_count": 13,
     "metadata": {},
     "output_type": "execute_result"
    }
   ],
   "source": [
    "numerical_cols = ['age', 'cholesterol', 'bmi', 'medication_count', 'length_of_stay', 'systolic_bp', 'diastolic_bp']\n",
    "binary_cols = ['diabetes', 'hypertension']\n",
    "nomial_cols = ['gender', 'discharge_destination']\n",
    "\n",
    "# Create a pipeline to preprocess the data\n",
    "preprocessor = ColumnTransformer(\n",
    "    transformers=[\n",
    "        ('num', StandardScaler(), numerical_cols),\n",
    "        ('bin', OneHotEncoder(drop='if_binary', sparse_output=False), binary_cols),\n",
    "        ('nom', OneHotEncoder(drop='first', sparse_output=False), nomial_cols)\n",
    "    ]\n",
    ")\n",
    "\n",
    "# # the apply preprocessing\n",
    "# for col in binary_cols:\n",
    "#     X[col] = LabelEncoder().fit_transform(X[col])\n",
    "\n",
    "# fit the preprocessor\n",
    "preprocessor.fit(X)\n",
    "\n",
    "# transform the data\n",
    "X_transformed = preprocessor.transform(X)\n",
    "\n",
    "# get features for Nominal columns after One Hot Encoding\n",
    "bin_feature_names = preprocessor.named_transformers_['bin'].get_feature_names_out(binary_cols)\n",
    "nom_feature_names = preprocessor.named_transformers_['nom'].get_feature_names_out(nomial_cols)\n",
    "\n",
    "# combine all features names\n",
    "features_names = numerical_cols + list(bin_feature_names) + list(nom_feature_names)\n",
    "\n",
    "X_df = pd.DataFrame(X_transformed, columns=features_names)\n",
    "X_df.head()"
   ]
  },
  {
   "cell_type": "code",
   "execution_count": 14,
   "id": "4d0a340b",
   "metadata": {},
   "outputs": [
    {
     "data": {
      "text/plain": [
       "(Index(['age', 'cholesterol', 'bmi', 'medication_count', 'length_of_stay',\n",
       "        'systolic_bp', 'diastolic_bp', 'diabetes_Yes', 'hypertension_Yes',\n",
       "        'gender_Male', 'gender_Other', 'discharge_destination_Nursing_Facility',\n",
       "        'discharge_destination_Rehab'],\n",
       "       dtype='object'),\n",
       " Index(['age', 'gender', 'cholesterol', 'bmi', 'diabetes', 'hypertension',\n",
       "        'medication_count', 'length_of_stay', 'discharge_destination',\n",
       "        'systolic_bp', 'diastolic_bp'],\n",
       "       dtype='object'))"
      ]
     },
     "execution_count": 14,
     "metadata": {},
     "output_type": "execute_result"
    }
   ],
   "source": [
    "X_df.columns, X.columns"
   ]
  },
  {
   "cell_type": "code",
   "execution_count": 15,
   "id": "7f68121f",
   "metadata": {},
   "outputs": [
    {
     "data": {
      "text/html": [
       "<div>\n",
       "<style scoped>\n",
       "    .dataframe tbody tr th:only-of-type {\n",
       "        vertical-align: middle;\n",
       "    }\n",
       "\n",
       "    .dataframe tbody tr th {\n",
       "        vertical-align: top;\n",
       "    }\n",
       "\n",
       "    .dataframe thead th {\n",
       "        text-align: right;\n",
       "    }\n",
       "</style>\n",
       "<table border=\"1\" class=\"dataframe\">\n",
       "  <thead>\n",
       "    <tr style=\"text-align: right;\">\n",
       "      <th></th>\n",
       "      <th>age</th>\n",
       "      <th>gender</th>\n",
       "      <th>cholesterol</th>\n",
       "      <th>bmi</th>\n",
       "      <th>diabetes</th>\n",
       "      <th>hypertension</th>\n",
       "      <th>medication_count</th>\n",
       "      <th>length_of_stay</th>\n",
       "      <th>discharge_destination</th>\n",
       "      <th>systolic_bp</th>\n",
       "      <th>diastolic_bp</th>\n",
       "    </tr>\n",
       "  </thead>\n",
       "  <tbody>\n",
       "    <tr>\n",
       "      <th>0</th>\n",
       "      <td>74</td>\n",
       "      <td>Other</td>\n",
       "      <td>240</td>\n",
       "      <td>31.5</td>\n",
       "      <td>Yes</td>\n",
       "      <td>No</td>\n",
       "      <td>5</td>\n",
       "      <td>1</td>\n",
       "      <td>Nursing_Facility</td>\n",
       "      <td>130</td>\n",
       "      <td>72</td>\n",
       "    </tr>\n",
       "    <tr>\n",
       "      <th>1</th>\n",
       "      <td>46</td>\n",
       "      <td>Female</td>\n",
       "      <td>292</td>\n",
       "      <td>36.3</td>\n",
       "      <td>No</td>\n",
       "      <td>No</td>\n",
       "      <td>4</td>\n",
       "      <td>3</td>\n",
       "      <td>Nursing_Facility</td>\n",
       "      <td>120</td>\n",
       "      <td>92</td>\n",
       "    </tr>\n",
       "    <tr>\n",
       "      <th>2</th>\n",
       "      <td>89</td>\n",
       "      <td>Other</td>\n",
       "      <td>153</td>\n",
       "      <td>30.3</td>\n",
       "      <td>No</td>\n",
       "      <td>Yes</td>\n",
       "      <td>1</td>\n",
       "      <td>1</td>\n",
       "      <td>Home</td>\n",
       "      <td>135</td>\n",
       "      <td>78</td>\n",
       "    </tr>\n",
       "    <tr>\n",
       "      <th>3</th>\n",
       "      <td>84</td>\n",
       "      <td>Female</td>\n",
       "      <td>153</td>\n",
       "      <td>31.5</td>\n",
       "      <td>No</td>\n",
       "      <td>Yes</td>\n",
       "      <td>3</td>\n",
       "      <td>10</td>\n",
       "      <td>Home</td>\n",
       "      <td>123</td>\n",
       "      <td>80</td>\n",
       "    </tr>\n",
       "    <tr>\n",
       "      <th>4</th>\n",
       "      <td>32</td>\n",
       "      <td>Other</td>\n",
       "      <td>205</td>\n",
       "      <td>18.4</td>\n",
       "      <td>No</td>\n",
       "      <td>Yes</td>\n",
       "      <td>6</td>\n",
       "      <td>4</td>\n",
       "      <td>Nursing_Facility</td>\n",
       "      <td>135</td>\n",
       "      <td>84</td>\n",
       "    </tr>\n",
       "  </tbody>\n",
       "</table>\n",
       "</div>"
      ],
      "text/plain": [
       "   age  gender  cholesterol   bmi diabetes hypertension  medication_count  \\\n",
       "0   74   Other          240  31.5      Yes           No                 5   \n",
       "1   46  Female          292  36.3       No           No                 4   \n",
       "2   89   Other          153  30.3       No          Yes                 1   \n",
       "3   84  Female          153  31.5       No          Yes                 3   \n",
       "4   32   Other          205  18.4       No          Yes                 6   \n",
       "\n",
       "   length_of_stay discharge_destination  systolic_bp  diastolic_bp  \n",
       "0               1      Nursing_Facility          130            72  \n",
       "1               3      Nursing_Facility          120            92  \n",
       "2               1                  Home          135            78  \n",
       "3              10                  Home          123            80  \n",
       "4               4      Nursing_Facility          135            84  "
      ]
     },
     "execution_count": 15,
     "metadata": {},
     "output_type": "execute_result"
    }
   ],
   "source": [
    "X.head()"
   ]
  },
  {
   "cell_type": "code",
   "execution_count": 16,
   "id": "0f59a5df",
   "metadata": {},
   "outputs": [
    {
     "data": {
      "text/plain": [
       "1.0"
      ]
     },
     "execution_count": 16,
     "metadata": {},
     "output_type": "execute_result"
    }
   ],
   "source": [
    "# training and testing the model\n",
    "from sklearn.model_selection import train_test_split\n",
    "from sklearn.ensemble import RandomForestClassifier\n",
    "from sklearn.metrics import confusion_matrix, accuracy_score, classification_report, ConfusionMatrixDisplay\n",
    "\n",
    "np.random.seed(42)\n",
    "\n",
    "X_train, X_test, y_train, y_test = train_test_split(X_df, y, test_size=0.2)\n",
    "\n",
    "model = RandomForestClassifier(n_estimators=1001, class_weight='balanced')\n",
    "model.fit(X_train, y_train)\n",
    "model.score(X_train, y_train)\n"
   ]
  },
  {
   "cell_type": "code",
   "execution_count": 17,
   "id": "c30510c4",
   "metadata": {},
   "outputs": [
    {
     "name": "stdout",
     "output_type": "stream",
     "text": [
      "Accuracy:  0.8718333333333333\n"
     ]
    }
   ],
   "source": [
    "# make predictions and evaluate the model\n",
    "y_preds = model.predict(X_test)\n",
    "\n",
    "accuracy = accuracy_score(y_test, y_preds)\n",
    "print(\"Accuracy: \", accuracy)"
   ]
  },
  {
   "cell_type": "code",
   "execution_count": 18,
   "id": "ee76c57d",
   "metadata": {},
   "outputs": [
    {
     "name": "stdout",
     "output_type": "stream",
     "text": [
      "[[5231    0]\n",
      " [ 769    0]]\n"
     ]
    }
   ],
   "source": [
    "cfm = confusion_matrix(y_test, y_preds)\n",
    "print(cfm)"
   ]
  },
  {
   "cell_type": "code",
   "execution_count": 19,
   "id": "beb55f29",
   "metadata": {},
   "outputs": [
    {
     "data": {
      "text/plain": [
       "<sklearn.metrics._plot.confusion_matrix.ConfusionMatrixDisplay at 0x293ad54fb60>"
      ]
     },
     "execution_count": 19,
     "metadata": {},
     "output_type": "execute_result"
    },
    {
     "data": {
      "image/png": "[encoded data removed]",
      "text/plain": [
       "<Figure size 640x480 with 2 Axes>"
      ]
     },
     "metadata": {},
     "output_type": "display_data"
    }
   ],
   "source": [
    "\n",
    "ConfusionMatrixDisplay.from_estimator(estimator=model, X=X_df, y=y, cmap='Blues')\n",
    "\n"
   ]
  },
  {
   "cell_type": "code",
   "execution_count": 20,
   "id": "b5359c7a",
   "metadata": {},
   "outputs": [
    {
     "data": {
      "text/plain": [
       "<sklearn.metrics._plot.confusion_matrix.ConfusionMatrixDisplay at 0x293ad89a0d0>"
      ]
     },
     "execution_count": 20,
     "metadata": {},
     "output_type": "execute_result"
    },
    {
     "data": {
      "image/png": "[encoded data removed]",
      "text/plain": [
       "<Figure size 640x480 with 2 Axes>"
      ]
     },
     "metadata": {},
     "output_type": "display_data"
    }
   ],
   "source": [
    "\n",
    "ConfusionMatrixDisplay.from_predictions(y_test, y_preds)"
   ]
  },
  {
   "cell_type": "code",
   "execution_count": 21,
   "id": "82666b14",
   "metadata": {},
   "outputs": [
    {
     "name": "stdout",
     "output_type": "stream",
     "text": [
      "Class distribution:\n",
      " 0    26326\n",
      "1     3674\n",
      "Name: count, dtype: int64\n"
     ]
    }
   ],
   "source": [
    "import matplotlib.pyplot as plt\n",
    "\n",
    "# Count of each class\n",
    "class_counts = pd.Series(y).value_counts()\n",
    "print(\"Class distribution:\\n\", class_counts)\n"
   ]
  },
  {
   "cell_type": "code",
   "execution_count": 22,
   "id": "40efe03b",
   "metadata": {},
   "outputs": [
    {
     "name": "stdout",
     "output_type": "stream",
     "text": [
      "Class proportions:\n",
      " 0    0.877533\n",
      "1    0.122467\n",
      "Name: count, dtype: float64\n"
     ]
    }
   ],
   "source": [
    "class_proportions = class_counts / len(y)\n",
    "print(\"Class proportions:\\n\", class_proportions)\n"
   ]
  },
  {
   "cell_type": "code",
   "execution_count": 23,
   "id": "e1c2bb0a",
   "metadata": {},
   "outputs": [
    {
     "data": {
      "image/png": "[encoded data removed]",
      "text/plain": [
       "<Figure size 640x480 with 1 Axes>"
      ]
     },
     "metadata": {},
     "output_type": "display_data"
    }
   ],
   "source": [
    "# Plot a bar chart\n",
    "class_counts.plot(kind='bar', title='Class Distribution')\n",
    "plt.xticks(ticks=[0,1], labels=['No', 'Yes'], rotation=0)\n",
    "plt.ylabel('Count')\n",
    "plt.show()\n"
   ]
  },
  {
   "cell_type": "code",
   "execution_count": 24,
   "id": "99744db4",
   "metadata": {},
   "outputs": [
    {
     "name": "stdout",
     "output_type": "stream",
     "text": [
      "              precision    recall  f1-score   support\n",
      "\n",
      "           0       0.87      1.00      0.93      5231\n",
      "           1       0.00      0.00      0.00       769\n",
      "\n",
      "    accuracy                           0.87      6000\n",
      "   macro avg       0.44      0.50      0.47      6000\n",
      "weighted avg       0.76      0.87      0.81      6000\n",
      "\n"
     ]
    },
    {
     "name": "stderr",
     "output_type": "stream",
     "text": [
      "c:\\Users\\Dee\\Desktop\\conda_projects\\env\\Lib\\site-packages\\sklearn\\metrics\\_classification.py:1565: UndefinedMetricWarning: Precision is ill-defined and being set to 0.0 in labels with no predicted samples. Use `zero_division` parameter to control this behavior.\n",
      "  _warn_prf(average, modifier, f\"{metric.capitalize()} is\", len(result))\n",
      "c:\\Users\\Dee\\Desktop\\conda_projects\\env\\Lib\\site-packages\\sklearn\\metrics\\_classification.py:1565: UndefinedMetricWarning: Precision is ill-defined and being set to 0.0 in labels with no predicted samples. Use `zero_division` parameter to control this behavior.\n",
      "  _warn_prf(average, modifier, f\"{metric.capitalize()} is\", len(result))\n",
      "c:\\Users\\Dee\\Desktop\\conda_projects\\env\\Lib\\site-packages\\sklearn\\metrics\\_classification.py:1565: UndefinedMetricWarning: Precision is ill-defined and being set to 0.0 in labels with no predicted samples. Use `zero_division` parameter to control this behavior.\n",
      "  _warn_prf(average, modifier, f\"{metric.capitalize()} is\", len(result))\n"
     ]
    }
   ],
   "source": [
    "print(classification_report(y_test, y_preds))"
   ]
  },
  {
   "cell_type": "code",
   "execution_count": 25,
   "id": "70ddfaa6",
   "metadata": {},
   "outputs": [
    {
     "name": "stdout",
     "output_type": "stream",
     "text": [
      "Channels:\n",
      " - defaults\n",
      "Platform: win-64\n",
      "Collecting package metadata (repodata.json): done\n",
      "Solving environment: done\n",
      "\n",
      "# All requested packages already installed.\n",
      "\n"
     ]
    }
   ],
   "source": [
    "import sys\n",
    "!conda install --yes --prefix {sys.prefix} imbalanced-learn"
   ]
  },
  {
   "cell_type": "code",
   "execution_count": 26,
   "id": "26971fb3",
   "metadata": {},
   "outputs": [],
   "source": [
    "from imblearn.over_sampling import SMOTE\n",
    "\n",
    "smote = SMOTE(random_state=42)\n",
    "X_resampled, y_resampled = smote.fit_resample(X_df, y)\n",
    "\n",
    "# Train-test split after resampling\n",
    "X_train, X_test, y_train, y_test = train_test_split(X_resampled, y_resampled, test_size=0.2, random_state=42)\n"
   ]
  },
  {
   "cell_type": "code",
   "execution_count": 27,
   "id": "b3b759ee",
   "metadata": {},
   "outputs": [
    {
     "data": {
      "text/plain": [
       "0.9335295793371949"
      ]
     },
     "execution_count": 27,
     "metadata": {},
     "output_type": "execute_result"
    }
   ],
   "source": [
    "# train and test \n",
    "estimator = RandomForestClassifier(n_estimators=1001, class_weight='balanced')\n",
    "estimator.fit(X_train, y_train)\n",
    "\n",
    "estimator.score(X_test, y_test)"
   ]
  },
  {
   "cell_type": "code",
   "execution_count": 28,
   "id": "5828bb27",
   "metadata": {},
   "outputs": [
    {
     "name": "stdout",
     "output_type": "stream",
     "text": [
      "[[5123   59]\n",
      " [ 641 4708]]\n"
     ]
    }
   ],
   "source": [
    "# evaluation\n",
    "y_preds = estimator.predict(X_test)\n",
    "\n",
    "print(confusion_matrix(y_test, y_preds))"
   ]
  },
  {
   "cell_type": "code",
   "execution_count": 29,
   "id": "e6d15095",
   "metadata": {},
   "outputs": [
    {
     "data": {
      "text/plain": [
       "<sklearn.metrics._plot.confusion_matrix.ConfusionMatrixDisplay at 0x293d650fed0>"
      ]
     },
     "execution_count": 29,
     "metadata": {},
     "output_type": "execute_result"
    },
    {
     "data": {
      "image/png": "[encoded data removed]",
      "text/plain": [
       "<Figure size 640x480 with 2 Axes>"
      ]
     },
     "metadata": {},
     "output_type": "display_data"
    }
   ],
   "source": [
    "ConfusionMatrixDisplay.from_estimator(estimator=estimator, X=X_resampled, y=y_resampled, cmap='Blues')"
   ]
  },
  {
   "cell_type": "code",
   "execution_count": 30,
   "id": "01d25b54",
   "metadata": {},
   "outputs": [
    {
     "data": {
      "text/plain": [
       "<sklearn.metrics._plot.confusion_matrix.ConfusionMatrixDisplay at 0x293ad7b3a80>"
      ]
     },
     "execution_count": 30,
     "metadata": {},
     "output_type": "execute_result"
    },
    {
     "data": {
      "image/png": "[encoded data removed]",
      "text/plain": [
       "<Figure size 640x480 with 2 Axes>"
      ]
     },
     "metadata": {},
     "output_type": "display_data"
    }
   ],
   "source": [
    "ConfusionMatrixDisplay.from_predictions(y_test, y_preds)"
   ]
  },
  {
   "cell_type": "code",
   "execution_count": 31,
   "id": "fd023516",
   "metadata": {},
   "outputs": [
    {
     "name": "stdout",
     "output_type": "stream",
     "text": [
      "                precision    recall  f1-score   support\n",
      "\n",
      "No Readmission       0.89      0.99      0.94      5182\n",
      "    Readmitted       0.99      0.88      0.93      5349\n",
      "\n",
      "      accuracy                           0.93     10531\n",
      "     macro avg       0.94      0.93      0.93     10531\n",
      "  weighted avg       0.94      0.93      0.93     10531\n",
      "\n"
     ]
    }
   ],
   "source": [
    "print(classification_report(y_test, y_preds, target_names=['No Readmission', 'Readmitted']))"
   ]
  },
  {
   "cell_type": "code",
   "execution_count": 32,
   "id": "32c9cb91",
   "metadata": {},
   "outputs": [
    {
     "name": "stdout",
     "output_type": "stream",
     "text": [
      "Cross Validation Score: [0.72386288 0.98661096 0.98774929 0.98774929 0.98537512]\n"
     ]
    }
   ],
   "source": [
    "from sklearn.model_selection import cross_val_score\n",
    "\n",
    "cv_score = cross_val_score(estimator, X_resampled, y_resampled, cv=5)\n",
    "\n",
    "print(f'Cross Validation Score: {cv_score}')"
   ]
  },
  {
   "cell_type": "code",
   "execution_count": 33,
   "id": "e513a98a",
   "metadata": {},
   "outputs": [
    {
     "name": "stdout",
     "output_type": "stream",
     "text": [
      "Accuracy score: 0.934269506669722\n"
     ]
    }
   ],
   "source": [
    "print(f\"Accuracy score: {cv_score.mean()}\")"
   ]
  },
  {
   "cell_type": "code",
   "execution_count": null,
   "id": "89dd79a4",
   "metadata": {},
   "outputs": [
    {
     "name": "stdout",
     "output_type": "stream",
     "text": [
      "Fitting 10 folds for each of 288 candidates, totalling 2880 fits\n"
     ]
    }
   ],
   "source": [
    "from sklearn.model_selection import GridSearchCV, StratifiedKFold\n",
    "\n",
    "param_grid = {\n",
    "    'n_estimators': [100, 200, 500],\n",
    "    'max_features': ['auto', 'sqrt', 'log2'],\n",
    "    'max_depth': [4, 5, 6, 7, 8, 10, 20, None],\n",
    "    'criterion': ['gini', 'entropy'],\n",
    "    'min_samples_leaf': [1, 2],\n",
    "    'class_weight': ['balanced']\n",
    "}\n",
    "\n",
    "grid_search = GridSearchCV(\n",
    "    estimator=RandomForestClassifier(),\n",
    "    param_grid=param_grid,\n",
    "    cv=StratifiedKFold(10),\n",
    "    n_jobs=-1,\n",
    "    verbose=1,\n",
    "    scoring='f1'\n",
    ")\n",
    "\n",
    "grid_search.fit(X_train, y_train)\n",
    "print(f'Best Parameters: {grid_search.best_params_}')"
   ]
  },
  {
   "cell_type": "code",
   "execution_count": null,
   "id": "5991b3bb",
   "metadata": {},
   "outputs": [],
   "source": []
  }
 ],
 "metadata": {
  "kernelspec": {
   "display_name": "Python 3",
   "language": "python",
   "name": "python3"
  },
  "language_info": {
   "codemirror_mode": {
    "name": "ipython",
    "version": 3
   },
   "file_extension": ".py",
   "mimetype": "text/x-python",
   "name": "python",
   "nbconvert_exporter": "python",
   "pygments_lexer": "ipython3",
   "version": "3.13.2"
  }
 },
 "nbformat": 4,
 "nbformat_minor": 5
}
